{
 "cells": [
  {
   "cell_type": "markdown",
   "id": "beginning-scenario",
   "metadata": {},
   "source": [
    "### Scott Bing Bssd5350 Homework #5 - Question #1 and Question #2\n",
    "### Question #2 Load from URL - for the remainder of the notebook\n",
    "### 1.) Pandas Tutorial using Forest Fires CSV File -forestfires.csv"
   ]
  },
  {
   "cell_type": "code",
   "execution_count": 1,
   "id": "listed-macro",
   "metadata": {},
   "outputs": [
    {
     "name": "stdout",
     "output_type": "stream",
     "text": [
      "    Y month  day  FFMC    DMC     DC   ISI  temp  RH  wind  rain   area\n",
      "X                                                                      \n",
      "7   5   mar  fri  86.2   26.2   94.3   5.1   8.2  51   6.7   0.0   0.00\n",
      "7   4   oct  tue  90.6   35.4  669.1   6.7  18.0  33   0.9   0.0   0.00\n",
      "7   4   oct  sat  90.6   43.7  686.9   6.7  14.6  33   1.3   0.0   0.00\n",
      "8   6   mar  fri  91.7   33.3   77.5   9.0   8.3  97   4.0   0.2   0.00\n",
      "8   6   mar  sun  89.3   51.3  102.2   9.6  11.4  99   1.8   0.0   0.00\n",
      ".. ..   ...  ...   ...    ...    ...   ...   ...  ..   ...   ...    ...\n",
      "4   3   aug  sun  81.6   56.7  665.6   1.9  27.8  32   2.7   0.0   6.44\n",
      "2   4   aug  sun  81.6   56.7  665.6   1.9  21.9  71   5.8   0.0  54.29\n",
      "7   4   aug  sun  81.6   56.7  665.6   1.9  21.2  70   6.7   0.0  11.16\n",
      "1   4   aug  sat  94.4  146.0  614.7  11.3  25.6  42   4.0   0.0   0.00\n",
      "6   3   nov  tue  79.5    3.0  106.7   1.1  11.8  31   4.5   0.0   0.00\n",
      "\n",
      "[517 rows x 12 columns]\n"
     ]
    }
   ],
   "source": [
    "# Load pandas\n",
    "import pandas as pd\n",
    "\n",
    "#Question #1 - Read from csv file\n",
    "# Read CSV file into DataFrame df\n",
    "df = pd.read_csv('forestfires.csv', index_col=0)\n",
    "\n",
    "# Show dataframe\n",
    "print(df)"
   ]
  },
  {
   "cell_type": "code",
   "execution_count": 2,
   "id": "junior-commitment",
   "metadata": {},
   "outputs": [
    {
     "name": "stdout",
     "output_type": "stream",
     "text": [
      "     X  Y month  day  FFMC    DMC     DC   ISI  temp  RH  wind  rain   area\n",
      "0    7  5   mar  fri  86.2   26.2   94.3   5.1   8.2  51   6.7   0.0   0.00\n",
      "1    7  4   oct  tue  90.6   35.4  669.1   6.7  18.0  33   0.9   0.0   0.00\n",
      "2    7  4   oct  sat  90.6   43.7  686.9   6.7  14.6  33   1.3   0.0   0.00\n",
      "3    8  6   mar  fri  91.7   33.3   77.5   9.0   8.3  97   4.0   0.2   0.00\n",
      "4    8  6   mar  sun  89.3   51.3  102.2   9.6  11.4  99   1.8   0.0   0.00\n",
      "..  .. ..   ...  ...   ...    ...    ...   ...   ...  ..   ...   ...    ...\n",
      "512  4  3   aug  sun  81.6   56.7  665.6   1.9  27.8  32   2.7   0.0   6.44\n",
      "513  2  4   aug  sun  81.6   56.7  665.6   1.9  21.9  71   5.8   0.0  54.29\n",
      "514  7  4   aug  sun  81.6   56.7  665.6   1.9  21.2  70   6.7   0.0  11.16\n",
      "515  1  4   aug  sat  94.4  146.0  614.7  11.3  25.6  42   4.0   0.0   0.00\n",
      "516  6  3   nov  tue  79.5    3.0  106.7   1.1  11.8  31   4.5   0.0   0.00\n",
      "\n",
      "[517 rows x 13 columns]\n",
      "Index(['X', 'Y', 'month', 'day', 'FFMC', 'DMC', 'DC', 'ISI', 'temp', 'RH',\n",
      "       'wind', 'rain', 'area'],\n",
      "      dtype='object')\n"
     ]
    }
   ],
   "source": [
    "url = 'https://archive.ics.uci.edu/ml/machine-learning-databases/forest-fires/forestfires.csv'\n",
    "\n",
    "#Question #2 - Read from URL\n",
    "df = pd.read_csv(url)\n",
    "print(df)\n",
    "#    11  12  13  14\n",
    "# 0  21  22  23  24\n",
    "# 1  31  32  33  34\n",
    "\n",
    "print(df.columns)\n",
    "# Index(['11', '12', '13', '14'], dtype='object')\n"
   ]
  },
  {
   "cell_type": "code",
   "execution_count": 3,
   "id": "electoral-barrier",
   "metadata": {},
   "outputs": [
    {
     "name": "stdout",
     "output_type": "stream",
     "text": [
      "     0   1    2    3     4      5      6     7     8   9    10   11     12\n",
      "0     7   5  mar  fri  86.2   26.2   94.3   5.1   8.2  51  6.7  0.0   0.00\n",
      "1     7   4  oct  tue  90.6   35.4  669.1   6.7  18.0  33  0.9  0.0   0.00\n",
      "2     7   4  oct  sat  90.6   43.7  686.9   6.7  14.6  33  1.3  0.0   0.00\n",
      "3     8   6  mar  fri  91.7   33.3   77.5   9.0   8.3  97  4.0  0.2   0.00\n",
      "4     8   6  mar  sun  89.3   51.3  102.2   9.6  11.4  99  1.8  0.0   0.00\n",
      "..   ..  ..  ...  ...   ...    ...    ...   ...   ...  ..  ...  ...    ...\n",
      "512   4   3  aug  sun  81.6   56.7  665.6   1.9  27.8  32  2.7  0.0   6.44\n",
      "513   2   4  aug  sun  81.6   56.7  665.6   1.9  21.9  71  5.8  0.0  54.29\n",
      "514   7   4  aug  sun  81.6   56.7  665.6   1.9  21.2  70  6.7  0.0  11.16\n",
      "515   1   4  aug  sat  94.4  146.0  614.7  11.3  25.6  42  4.0  0.0   0.00\n",
      "516   6   3  nov  tue  79.5    3.0  106.7   1.1  11.8  31  4.5  0.0   0.00\n",
      "\n",
      "[517 rows x 13 columns]\n"
     ]
    }
   ],
   "source": [
    "df_none = pd.read_csv(url, header=None, skiprows=1)\n",
    "print(df_none)\n",
    "#     0   1   2   3\n",
    "# 0  11  12  13  14\n",
    "# 1  21  22  23  24\n",
    "# 2  31  32  33  34"
   ]
  },
  {
   "cell_type": "code",
   "execution_count": 4,
   "id": "medium-louisiana",
   "metadata": {},
   "outputs": [
    {
     "name": "stdout",
     "output_type": "stream",
     "text": [
      "    A    B    C     D      E      F     G     H   I    J    K      L\n",
      "7   5  mar  fri  86.2   26.2   94.3   5.1   8.2  51  6.7  0.0   0.00\n",
      "7   4  oct  tue  90.6   35.4  669.1   6.7  18.0  33  0.9  0.0   0.00\n",
      "7   4  oct  sat  90.6   43.7  686.9   6.7  14.6  33  1.3  0.0   0.00\n",
      "8   6  mar  fri  91.7   33.3   77.5   9.0   8.3  97  4.0  0.2   0.00\n",
      "8   6  mar  sun  89.3   51.3  102.2   9.6  11.4  99  1.8  0.0   0.00\n",
      ".. ..  ...  ...   ...    ...    ...   ...   ...  ..  ...  ...    ...\n",
      "4   3  aug  sun  81.6   56.7  665.6   1.9  27.8  32  2.7  0.0   6.44\n",
      "2   4  aug  sun  81.6   56.7  665.6   1.9  21.9  71  5.8  0.0  54.29\n",
      "7   4  aug  sun  81.6   56.7  665.6   1.9  21.2  70  6.7  0.0  11.16\n",
      "1   4  aug  sat  94.4  146.0  614.7  11.3  25.6  42  4.0  0.0   0.00\n",
      "6   3  nov  tue  79.5    3.0  106.7   1.1  11.8  31  4.5  0.0   0.00\n",
      "\n",
      "[517 rows x 12 columns]\n"
     ]
    }
   ],
   "source": [
    "df_names = pd.read_csv(url, names=('A', 'B', 'C', 'D', 'E', 'F', 'G', 'H', 'I', 'J', 'K', 'L'), \n",
    "                       header=None,skiprows=1)\n",
    "print(df_names)\n",
    "#     A   B   C   D\n",
    "# 0  11  12  13  14\n",
    "# 1  21  22  23  24\n",
    "# 2  31  32  33  34"
   ]
  },
  {
   "cell_type": "code",
   "execution_count": 5,
   "id": "identified-planner",
   "metadata": {},
   "outputs": [
    {
     "name": "stdout",
     "output_type": "stream",
     "text": [
      "     X  Y month  day  FFMC    DMC     DC   ISI  temp  RH  wind  rain   area\n",
      "0    7  5   mar  fri  86.2   26.2   94.3   5.1   8.2  51   6.7   0.0   0.00\n",
      "1    7  4   oct  tue  90.6   35.4  669.1   6.7  18.0  33   0.9   0.0   0.00\n",
      "2    7  4   oct  sat  90.6   43.7  686.9   6.7  14.6  33   1.3   0.0   0.00\n",
      "3    8  6   mar  fri  91.7   33.3   77.5   9.0   8.3  97   4.0   0.2   0.00\n",
      "4    8  6   mar  sun  89.3   51.3  102.2   9.6  11.4  99   1.8   0.0   0.00\n",
      "..  .. ..   ...  ...   ...    ...    ...   ...   ...  ..   ...   ...    ...\n",
      "512  4  3   aug  sun  81.6   56.7  665.6   1.9  27.8  32   2.7   0.0   6.44\n",
      "513  2  4   aug  sun  81.6   56.7  665.6   1.9  21.9  71   5.8   0.0  54.29\n",
      "514  7  4   aug  sun  81.6   56.7  665.6   1.9  21.2  70   6.7   0.0  11.16\n",
      "515  1  4   aug  sat  94.4  146.0  614.7  11.3  25.6  42   4.0   0.0   0.00\n",
      "516  6  3   nov  tue  79.5    3.0  106.7   1.1  11.8  31   4.5   0.0   0.00\n",
      "\n",
      "[517 rows x 13 columns]\n"
     ]
    }
   ],
   "source": [
    "df_header = pd.read_csv(url)\n",
    "print(df_header)"
   ]
  },
  {
   "cell_type": "code",
   "execution_count": 6,
   "id": "cooperative-encounter",
   "metadata": {},
   "outputs": [
    {
     "name": "stdout",
     "output_type": "stream",
     "text": [
      "     X  Y month  day  FFMC    DMC     DC   ISI  temp  RH  wind  rain   area\n",
      "0    7  5   mar  fri  86.2   26.2   94.3   5.1   8.2  51   6.7   0.0   0.00\n",
      "1    7  4   oct  tue  90.6   35.4  669.1   6.7  18.0  33   0.9   0.0   0.00\n",
      "2    7  4   oct  sat  90.6   43.7  686.9   6.7  14.6  33   1.3   0.0   0.00\n",
      "3    8  6   mar  fri  91.7   33.3   77.5   9.0   8.3  97   4.0   0.2   0.00\n",
      "4    8  6   mar  sun  89.3   51.3  102.2   9.6  11.4  99   1.8   0.0   0.00\n",
      "..  .. ..   ...  ...   ...    ...    ...   ...   ...  ..   ...   ...    ...\n",
      "512  4  3   aug  sun  81.6   56.7  665.6   1.9  27.8  32   2.7   0.0   6.44\n",
      "513  2  4   aug  sun  81.6   56.7  665.6   1.9  21.9  71   5.8   0.0  54.29\n",
      "514  7  4   aug  sun  81.6   56.7  665.6   1.9  21.2  70   6.7   0.0  11.16\n",
      "515  1  4   aug  sat  94.4  146.0  614.7  11.3  25.6  42   4.0   0.0   0.00\n",
      "516  6  3   nov  tue  79.5    3.0  106.7   1.1  11.8  31   4.5   0.0   0.00\n",
      "\n",
      "[517 rows x 13 columns]\n"
     ]
    }
   ],
   "source": [
    "df_header_0 = pd.read_csv(url, header=0)\n",
    "print(df_header_0)"
   ]
  },
  {
   "cell_type": "code",
   "execution_count": 7,
   "id": "assured-xerox",
   "metadata": {},
   "outputs": [
    {
     "name": "stdout",
     "output_type": "stream",
     "text": [
      "     7  4  oct  tue  90.6   35.4  669.1   6.7    18  33  0.9    0    0.1\n",
      "0    7  4  oct  sat  90.6   43.7  686.9   6.7  14.6  33  1.3  0.0   0.00\n",
      "1    8  6  mar  fri  91.7   33.3   77.5   9.0   8.3  97  4.0  0.2   0.00\n",
      "2    8  6  mar  sun  89.3   51.3  102.2   9.6  11.4  99  1.8  0.0   0.00\n",
      "3    8  6  aug  sun  92.3   85.3  488.0  14.7  22.2  29  5.4  0.0   0.00\n",
      "4    8  6  aug  mon  92.3   88.9  495.6   8.5  24.1  27  3.1  0.0   0.00\n",
      "..  .. ..  ...  ...   ...    ...    ...   ...   ...  ..  ...  ...    ...\n",
      "510  4  3  aug  sun  81.6   56.7  665.6   1.9  27.8  32  2.7  0.0   6.44\n",
      "511  2  4  aug  sun  81.6   56.7  665.6   1.9  21.9  71  5.8  0.0  54.29\n",
      "512  7  4  aug  sun  81.6   56.7  665.6   1.9  21.2  70  6.7  0.0  11.16\n",
      "513  1  4  aug  sat  94.4  146.0  614.7  11.3  25.6  42  4.0  0.0   0.00\n",
      "514  6  3  nov  tue  79.5    3.0  106.7   1.1  11.8  31  4.5  0.0   0.00\n",
      "\n",
      "[515 rows x 13 columns]\n"
     ]
    }
   ],
   "source": [
    "df_header_2 = pd.read_csv(url, header=2)\n",
    "print(df_header_2)"
   ]
  },
  {
   "cell_type": "code",
   "execution_count": 8,
   "id": "beginning-negotiation",
   "metadata": {},
   "outputs": [
    {
     "name": "stdout",
     "output_type": "stream",
     "text": [
      "    Y month  day  FFMC    DMC     DC   ISI  temp  RH  wind  rain   area\n",
      "X                                                                      \n",
      "7   5   mar  fri  86.2   26.2   94.3   5.1   8.2  51   6.7   0.0   0.00\n",
      "7   4   oct  tue  90.6   35.4  669.1   6.7  18.0  33   0.9   0.0   0.00\n",
      "7   4   oct  sat  90.6   43.7  686.9   6.7  14.6  33   1.3   0.0   0.00\n",
      "8   6   mar  fri  91.7   33.3   77.5   9.0   8.3  97   4.0   0.2   0.00\n",
      "8   6   mar  sun  89.3   51.3  102.2   9.6  11.4  99   1.8   0.0   0.00\n",
      ".. ..   ...  ...   ...    ...    ...   ...   ...  ..   ...   ...    ...\n",
      "4   3   aug  sun  81.6   56.7  665.6   1.9  27.8  32   2.7   0.0   6.44\n",
      "2   4   aug  sun  81.6   56.7  665.6   1.9  21.9  71   5.8   0.0  54.29\n",
      "7   4   aug  sun  81.6   56.7  665.6   1.9  21.2  70   6.7   0.0  11.16\n",
      "1   4   aug  sat  94.4  146.0  614.7  11.3  25.6  42   4.0   0.0   0.00\n",
      "6   3   nov  tue  79.5    3.0  106.7   1.1  11.8  31   4.5   0.0   0.00\n",
      "\n",
      "[517 rows x 12 columns]\n",
      "Int64Index([7, 7, 7, 8, 8, 8, 8, 8, 8, 7,\n",
      "            ...\n",
      "            2, 1, 5, 6, 8, 4, 2, 7, 1, 6],\n",
      "           dtype='int64', name='X', length=517)\n"
     ]
    }
   ],
   "source": [
    "df_header_index_col = pd.read_csv(url, index_col=0)\n",
    "print(df_header_index_col)\n",
    "\n",
    "print(df_header_index_col.index)\n",
    "# Index(['ONE', 'TWO', 'THREE'], dtype='object')"
   ]
  },
  {
   "cell_type": "code",
   "execution_count": null,
   "id": "certain-reach",
   "metadata": {},
   "outputs": [],
   "source": []
  }
 ],
 "metadata": {
  "kernelspec": {
   "display_name": "Python 3",
   "language": "python",
   "name": "python3"
  },
  "language_info": {
   "codemirror_mode": {
    "name": "ipython",
    "version": 3
   },
   "file_extension": ".py",
   "mimetype": "text/x-python",
   "name": "python",
   "nbconvert_exporter": "python",
   "pygments_lexer": "ipython3",
   "version": "3.7.9"
  },
  "varInspector": {
   "cols": {
    "lenName": 16,
    "lenType": 16,
    "lenVar": 40
   },
   "kernels_config": {
    "python": {
     "delete_cmd_postfix": "",
     "delete_cmd_prefix": "del ",
     "library": "var_list.py",
     "varRefreshCmd": "print(var_dic_list())"
    },
    "r": {
     "delete_cmd_postfix": ") ",
     "delete_cmd_prefix": "rm(",
     "library": "var_list.r",
     "varRefreshCmd": "cat(var_dic_list()) "
    }
   },
   "types_to_exclude": [
    "module",
    "function",
    "builtin_function_or_method",
    "instance",
    "_Feature"
   ],
   "window_display": false
  }
 },
 "nbformat": 4,
 "nbformat_minor": 5
}
