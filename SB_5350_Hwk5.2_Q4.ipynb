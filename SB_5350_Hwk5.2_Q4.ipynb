{
 "cells": [
  {
   "cell_type": "markdown",
   "metadata": {},
   "source": [
    "### Scott Bing BSSD5350 Homework #5 Question #4"
   ]
  },
  {
   "cell_type": "markdown",
   "metadata": {
    "id": "zwBCE43Cv3PH"
   },
   "source": [
    "##### Copyright 2019 The TensorFlow Authors.\n",
    "\n",
    "Licensed under the Apache License, Version 2.0 (the \"License\");"
   ]
  },
  {
   "cell_type": "code",
   "execution_count": 1,
   "metadata": {
    "cellView": "form",
    "execution": {
     "iopub.execute_input": "2020-12-11T02:27:06.306882Z",
     "iopub.status.busy": "2020-12-11T02:27:06.306187Z",
     "iopub.status.idle": "2020-12-11T02:27:06.308975Z",
     "shell.execute_reply": "2020-12-11T02:27:06.308501Z"
    },
    "id": "fOad0I2cv569"
   },
   "outputs": [],
   "source": [
    "#@title Licensed under the Apache License, Version 2.0 (the \"License\");\n",
    "# you may not use this file except in compliance with the License.\n",
    "# You may obtain a copy of the License at\n",
    "#\n",
    "# https://www.apache.org/licenses/LICENSE-2.0\n",
    "#\n",
    "# Unless required by applicable law or agreed to in writing, software\n",
    "# distributed under the License is distributed on an \"AS IS\" BASIS,\n",
    "# WITHOUT WARRANTIES OR CONDITIONS OF ANY KIND, either express or implied.\n",
    "# See the License for the specific language governing permissions and\n",
    "# limitations under the License."
   ]
  },
  {
   "cell_type": "markdown",
   "metadata": {
    "id": "YQB7yiF6v9GR"
   },
   "source": [
    "# Load a pandas.DataFrame"
   ]
  },
  {
   "cell_type": "markdown",
   "metadata": {
    "id": "Oqa952X4wQKK"
   },
   "source": [
    "<table class=\"tfo-notebook-buttons\" align=\"left\">\n",
    "  <td>\n",
    "    <a target=\"_blank\" href=\"https://www.tensorflow.org/tutorials/load_data/pandas_dataframe\"><img src=\"https://www.tensorflow.org/images/tf_logo_32px.png\" />View on TensorFlow.org</a>\n",
    "  </td>\n",
    "  <td>\n",
    "    <a target=\"_blank\" href=\"https://colab.research.google.com/github/tensorflow/docs/blob/master/site/en/tutorials/load_data/pandas_dataframe.ipynb\"><img src=\"https://www.tensorflow.org/images/colab_logo_32px.png\" />Run in Google Colab</a>\n",
    "  </td>\n",
    "  <td>\n",
    "    <a target=\"_blank\" href=\"https://github.com/tensorflow/docs/blob/master/site/en/tutorials/load_data/pandas_dataframe.ipynb\"><img src=\"https://www.tensorflow.org/images/GitHub-Mark-32px.png\" />View source on GitHub</a>\n",
    "  </td>\n",
    "  <td>\n",
    "    <a href=\"https://storage.googleapis.com/tensorflow_docs/docs/site/en/tutorials/load_data/pandas_dataframe.ipynb\"><img src=\"https://www.tensorflow.org/images/download_logo_32px.png\" />Download notebook</a>\n",
    "  </td>\n",
    "</table>"
   ]
  },
  {
   "cell_type": "markdown",
   "metadata": {
    "id": "UmyEaf4Awl2v"
   },
   "source": [
    "This tutorial provides an example of how to load pandas dataframes into a `tf.data.Dataset`.\n",
    "\n",
    "This tutorials uses a small [dataset](https://archive.ics.uci.edu/ml/datasets/heart+Disease) provided by the Cleveland Clinic Foundation for Heart Disease. There are several hundred rows in the CSV. Each row describes a patient, and each column describes an attribute. We will use this information to predict whether a patient has heart disease, which in this dataset is a binary classification task."
   ]
  },
  {
   "cell_type": "markdown",
   "metadata": {
    "id": "iiyC7HkqxlUD"
   },
   "source": [
    "## Read data using pandas"
   ]
  },
  {
   "cell_type": "code",
   "execution_count": 2,
   "metadata": {
    "execution": {
     "iopub.execute_input": "2020-12-11T02:27:06.317604Z",
     "iopub.status.busy": "2020-12-11T02:27:06.316907Z",
     "iopub.status.idle": "2020-12-11T02:27:12.061015Z",
     "shell.execute_reply": "2020-12-11T02:27:12.060388Z"
    },
    "id": "5IoRbCA2n0_V"
   },
   "outputs": [],
   "source": [
    "import pandas as pd\n",
    "import tensorflow as tf"
   ]
  },
  {
   "cell_type": "markdown",
   "metadata": {
    "id": "-2kBGy_pxn47"
   },
   "source": [
    "Download the csv file containing the heart dataset."
   ]
  },
  {
   "cell_type": "code",
   "execution_count": 3,
   "metadata": {
    "execution": {
     "iopub.execute_input": "2020-12-11T02:27:12.066930Z",
     "iopub.status.busy": "2020-12-11T02:27:12.066113Z",
     "iopub.status.idle": "2020-12-11T02:27:13.196786Z",
     "shell.execute_reply": "2020-12-11T02:27:13.196210Z"
    },
    "id": "VS4w2LePn9g3"
   },
   "outputs": [],
   "source": [
    "url = 'https://archive.ics.uci.edu/ml/machine-learning-databases/forest-fires/forestfires.csv'\n",
    "\n",
    "csv_file = tf.keras.utils.get_file('forestfires.csv', url)"
   ]
  },
  {
   "cell_type": "markdown",
   "metadata": {
    "id": "6BXRPD2-xtQ1"
   },
   "source": [
    "Read the csv file using pandas."
   ]
  },
  {
   "cell_type": "code",
   "execution_count": 4,
   "metadata": {
    "execution": {
     "iopub.execute_input": "2020-12-11T02:27:13.204518Z",
     "iopub.status.busy": "2020-12-11T02:27:13.203822Z",
     "iopub.status.idle": "2020-12-11T02:27:13.212159Z",
     "shell.execute_reply": "2020-12-11T02:27:13.211670Z"
    },
    "id": "UEfJ8TcMpe-2"
   },
   "outputs": [],
   "source": [
    "df = pd.read_csv(csv_file)"
   ]
  },
  {
   "cell_type": "code",
   "execution_count": 5,
   "metadata": {
    "execution": {
     "iopub.execute_input": "2020-12-11T02:27:13.318439Z",
     "iopub.status.busy": "2020-12-11T02:27:13.313666Z",
     "iopub.status.idle": "2020-12-11T02:27:13.321517Z",
     "shell.execute_reply": "2020-12-11T02:27:13.321921Z"
    },
    "id": "8FkK6QIRpjd4"
   },
   "outputs": [
    {
     "data": {
      "text/html": [
       "<div>\n",
       "<style scoped>\n",
       "    .dataframe tbody tr th:only-of-type {\n",
       "        vertical-align: middle;\n",
       "    }\n",
       "\n",
       "    .dataframe tbody tr th {\n",
       "        vertical-align: top;\n",
       "    }\n",
       "\n",
       "    .dataframe thead th {\n",
       "        text-align: right;\n",
       "    }\n",
       "</style>\n",
       "<table border=\"1\" class=\"dataframe\">\n",
       "  <thead>\n",
       "    <tr style=\"text-align: right;\">\n",
       "      <th></th>\n",
       "      <th>X</th>\n",
       "      <th>Y</th>\n",
       "      <th>month</th>\n",
       "      <th>day</th>\n",
       "      <th>FFMC</th>\n",
       "      <th>DMC</th>\n",
       "      <th>DC</th>\n",
       "      <th>ISI</th>\n",
       "      <th>temp</th>\n",
       "      <th>RH</th>\n",
       "      <th>wind</th>\n",
       "      <th>rain</th>\n",
       "      <th>area</th>\n",
       "    </tr>\n",
       "  </thead>\n",
       "  <tbody>\n",
       "    <tr>\n",
       "      <th>0</th>\n",
       "      <td>7</td>\n",
       "      <td>5</td>\n",
       "      <td>mar</td>\n",
       "      <td>fri</td>\n",
       "      <td>86.2</td>\n",
       "      <td>26.2</td>\n",
       "      <td>94.3</td>\n",
       "      <td>5.1</td>\n",
       "      <td>8.2</td>\n",
       "      <td>51</td>\n",
       "      <td>6.7</td>\n",
       "      <td>0.0</td>\n",
       "      <td>0.0</td>\n",
       "    </tr>\n",
       "    <tr>\n",
       "      <th>1</th>\n",
       "      <td>7</td>\n",
       "      <td>4</td>\n",
       "      <td>oct</td>\n",
       "      <td>tue</td>\n",
       "      <td>90.6</td>\n",
       "      <td>35.4</td>\n",
       "      <td>669.1</td>\n",
       "      <td>6.7</td>\n",
       "      <td>18.0</td>\n",
       "      <td>33</td>\n",
       "      <td>0.9</td>\n",
       "      <td>0.0</td>\n",
       "      <td>0.0</td>\n",
       "    </tr>\n",
       "    <tr>\n",
       "      <th>2</th>\n",
       "      <td>7</td>\n",
       "      <td>4</td>\n",
       "      <td>oct</td>\n",
       "      <td>sat</td>\n",
       "      <td>90.6</td>\n",
       "      <td>43.7</td>\n",
       "      <td>686.9</td>\n",
       "      <td>6.7</td>\n",
       "      <td>14.6</td>\n",
       "      <td>33</td>\n",
       "      <td>1.3</td>\n",
       "      <td>0.0</td>\n",
       "      <td>0.0</td>\n",
       "    </tr>\n",
       "    <tr>\n",
       "      <th>3</th>\n",
       "      <td>8</td>\n",
       "      <td>6</td>\n",
       "      <td>mar</td>\n",
       "      <td>fri</td>\n",
       "      <td>91.7</td>\n",
       "      <td>33.3</td>\n",
       "      <td>77.5</td>\n",
       "      <td>9.0</td>\n",
       "      <td>8.3</td>\n",
       "      <td>97</td>\n",
       "      <td>4.0</td>\n",
       "      <td>0.2</td>\n",
       "      <td>0.0</td>\n",
       "    </tr>\n",
       "    <tr>\n",
       "      <th>4</th>\n",
       "      <td>8</td>\n",
       "      <td>6</td>\n",
       "      <td>mar</td>\n",
       "      <td>sun</td>\n",
       "      <td>89.3</td>\n",
       "      <td>51.3</td>\n",
       "      <td>102.2</td>\n",
       "      <td>9.6</td>\n",
       "      <td>11.4</td>\n",
       "      <td>99</td>\n",
       "      <td>1.8</td>\n",
       "      <td>0.0</td>\n",
       "      <td>0.0</td>\n",
       "    </tr>\n",
       "  </tbody>\n",
       "</table>\n",
       "</div>"
      ],
      "text/plain": [
       "   X  Y month  day  FFMC   DMC     DC  ISI  temp  RH  wind  rain  area\n",
       "0  7  5   mar  fri  86.2  26.2   94.3  5.1   8.2  51   6.7   0.0   0.0\n",
       "1  7  4   oct  tue  90.6  35.4  669.1  6.7  18.0  33   0.9   0.0   0.0\n",
       "2  7  4   oct  sat  90.6  43.7  686.9  6.7  14.6  33   1.3   0.0   0.0\n",
       "3  8  6   mar  fri  91.7  33.3   77.5  9.0   8.3  97   4.0   0.2   0.0\n",
       "4  8  6   mar  sun  89.3  51.3  102.2  9.6  11.4  99   1.8   0.0   0.0"
      ]
     },
     "execution_count": 5,
     "metadata": {},
     "output_type": "execute_result"
    }
   ],
   "source": [
    "df.head()"
   ]
  },
  {
   "cell_type": "code",
   "execution_count": 6,
   "metadata": {
    "execution": {
     "iopub.execute_input": "2020-12-11T02:27:13.327713Z",
     "iopub.status.busy": "2020-12-11T02:27:13.326934Z",
     "iopub.status.idle": "2020-12-11T02:27:13.330115Z",
     "shell.execute_reply": "2020-12-11T02:27:13.329640Z"
    },
    "id": "_MOAKz654CT5"
   },
   "outputs": [
    {
     "data": {
      "text/plain": [
       "X          int64\n",
       "Y          int64\n",
       "month     object\n",
       "day       object\n",
       "FFMC     float64\n",
       "DMC      float64\n",
       "DC       float64\n",
       "ISI      float64\n",
       "temp     float64\n",
       "RH         int64\n",
       "wind     float64\n",
       "rain     float64\n",
       "area     float64\n",
       "dtype: object"
      ]
     },
     "execution_count": 6,
     "metadata": {},
     "output_type": "execute_result"
    }
   ],
   "source": [
    "df.dtypes"
   ]
  },
  {
   "cell_type": "markdown",
   "metadata": {
    "id": "ww4lRDCS3qPh"
   },
   "source": [
    "Convert `thal` column which is an `object` in the dataframe to a discrete numerical value."
   ]
  },
  {
   "cell_type": "code",
   "execution_count": 7,
   "metadata": {
    "execution": {
     "iopub.execute_input": "2020-12-11T02:27:13.336545Z",
     "iopub.status.busy": "2020-12-11T02:27:13.335864Z",
     "iopub.status.idle": "2020-12-11T02:27:13.337952Z",
     "shell.execute_reply": "2020-12-11T02:27:13.338383Z"
    },
    "id": "LmCl5R5C2IKo"
   },
   "outputs": [],
   "source": [
    "df['month'] = pd.Categorical(df['month'])\n",
    "df['month'] = df.month.cat.codes\n",
    "df['day'] = pd.Categorical(df['day'])\n",
    "df['day'] = df.day.cat.codes"
   ]
  },
  {
   "cell_type": "code",
   "execution_count": 8,
   "metadata": {
    "execution": {
     "iopub.execute_input": "2020-12-11T02:27:13.349505Z",
     "iopub.status.busy": "2020-12-11T02:27:13.348783Z",
     "iopub.status.idle": "2020-12-11T02:27:13.351957Z",
     "shell.execute_reply": "2020-12-11T02:27:13.351462Z"
    },
    "id": "s4XA1SNW2QyI"
   },
   "outputs": [
    {
     "data": {
      "text/html": [
       "<div>\n",
       "<style scoped>\n",
       "    .dataframe tbody tr th:only-of-type {\n",
       "        vertical-align: middle;\n",
       "    }\n",
       "\n",
       "    .dataframe tbody tr th {\n",
       "        vertical-align: top;\n",
       "    }\n",
       "\n",
       "    .dataframe thead th {\n",
       "        text-align: right;\n",
       "    }\n",
       "</style>\n",
       "<table border=\"1\" class=\"dataframe\">\n",
       "  <thead>\n",
       "    <tr style=\"text-align: right;\">\n",
       "      <th></th>\n",
       "      <th>X</th>\n",
       "      <th>Y</th>\n",
       "      <th>month</th>\n",
       "      <th>day</th>\n",
       "      <th>FFMC</th>\n",
       "      <th>DMC</th>\n",
       "      <th>DC</th>\n",
       "      <th>ISI</th>\n",
       "      <th>temp</th>\n",
       "      <th>RH</th>\n",
       "      <th>wind</th>\n",
       "      <th>rain</th>\n",
       "      <th>area</th>\n",
       "    </tr>\n",
       "  </thead>\n",
       "  <tbody>\n",
       "    <tr>\n",
       "      <th>0</th>\n",
       "      <td>7</td>\n",
       "      <td>5</td>\n",
       "      <td>7</td>\n",
       "      <td>0</td>\n",
       "      <td>86.2</td>\n",
       "      <td>26.2</td>\n",
       "      <td>94.3</td>\n",
       "      <td>5.1</td>\n",
       "      <td>8.2</td>\n",
       "      <td>51</td>\n",
       "      <td>6.7</td>\n",
       "      <td>0.0</td>\n",
       "      <td>0.0</td>\n",
       "    </tr>\n",
       "    <tr>\n",
       "      <th>1</th>\n",
       "      <td>7</td>\n",
       "      <td>4</td>\n",
       "      <td>10</td>\n",
       "      <td>5</td>\n",
       "      <td>90.6</td>\n",
       "      <td>35.4</td>\n",
       "      <td>669.1</td>\n",
       "      <td>6.7</td>\n",
       "      <td>18.0</td>\n",
       "      <td>33</td>\n",
       "      <td>0.9</td>\n",
       "      <td>0.0</td>\n",
       "      <td>0.0</td>\n",
       "    </tr>\n",
       "    <tr>\n",
       "      <th>2</th>\n",
       "      <td>7</td>\n",
       "      <td>4</td>\n",
       "      <td>10</td>\n",
       "      <td>2</td>\n",
       "      <td>90.6</td>\n",
       "      <td>43.7</td>\n",
       "      <td>686.9</td>\n",
       "      <td>6.7</td>\n",
       "      <td>14.6</td>\n",
       "      <td>33</td>\n",
       "      <td>1.3</td>\n",
       "      <td>0.0</td>\n",
       "      <td>0.0</td>\n",
       "    </tr>\n",
       "    <tr>\n",
       "      <th>3</th>\n",
       "      <td>8</td>\n",
       "      <td>6</td>\n",
       "      <td>7</td>\n",
       "      <td>0</td>\n",
       "      <td>91.7</td>\n",
       "      <td>33.3</td>\n",
       "      <td>77.5</td>\n",
       "      <td>9.0</td>\n",
       "      <td>8.3</td>\n",
       "      <td>97</td>\n",
       "      <td>4.0</td>\n",
       "      <td>0.2</td>\n",
       "      <td>0.0</td>\n",
       "    </tr>\n",
       "    <tr>\n",
       "      <th>4</th>\n",
       "      <td>8</td>\n",
       "      <td>6</td>\n",
       "      <td>7</td>\n",
       "      <td>3</td>\n",
       "      <td>89.3</td>\n",
       "      <td>51.3</td>\n",
       "      <td>102.2</td>\n",
       "      <td>9.6</td>\n",
       "      <td>11.4</td>\n",
       "      <td>99</td>\n",
       "      <td>1.8</td>\n",
       "      <td>0.0</td>\n",
       "      <td>0.0</td>\n",
       "    </tr>\n",
       "  </tbody>\n",
       "</table>\n",
       "</div>"
      ],
      "text/plain": [
       "   X  Y  month  day  FFMC   DMC     DC  ISI  temp  RH  wind  rain  area\n",
       "0  7  5      7    0  86.2  26.2   94.3  5.1   8.2  51   6.7   0.0   0.0\n",
       "1  7  4     10    5  90.6  35.4  669.1  6.7  18.0  33   0.9   0.0   0.0\n",
       "2  7  4     10    2  90.6  43.7  686.9  6.7  14.6  33   1.3   0.0   0.0\n",
       "3  8  6      7    0  91.7  33.3   77.5  9.0   8.3  97   4.0   0.2   0.0\n",
       "4  8  6      7    3  89.3  51.3  102.2  9.6  11.4  99   1.8   0.0   0.0"
      ]
     },
     "execution_count": 8,
     "metadata": {},
     "output_type": "execute_result"
    }
   ],
   "source": [
    "df.head()"
   ]
  },
  {
   "cell_type": "code",
   "execution_count": 9,
   "metadata": {
    "scrolled": true
   },
   "outputs": [
    {
     "data": {
      "text/html": [
       "<div>\n",
       "<style scoped>\n",
       "    .dataframe tbody tr th:only-of-type {\n",
       "        vertical-align: middle;\n",
       "    }\n",
       "\n",
       "    .dataframe tbody tr th {\n",
       "        vertical-align: top;\n",
       "    }\n",
       "\n",
       "    .dataframe thead th {\n",
       "        text-align: right;\n",
       "    }\n",
       "</style>\n",
       "<table border=\"1\" class=\"dataframe\">\n",
       "  <thead>\n",
       "    <tr style=\"text-align: right;\">\n",
       "      <th></th>\n",
       "      <th>X</th>\n",
       "      <th>Y</th>\n",
       "      <th>month</th>\n",
       "      <th>day</th>\n",
       "      <th>FFMC</th>\n",
       "      <th>DMC</th>\n",
       "      <th>DC</th>\n",
       "      <th>ISI</th>\n",
       "      <th>temp</th>\n",
       "      <th>RH</th>\n",
       "      <th>wind</th>\n",
       "      <th>rain</th>\n",
       "      <th>area</th>\n",
       "    </tr>\n",
       "  </thead>\n",
       "  <tbody>\n",
       "    <tr>\n",
       "      <th>count</th>\n",
       "      <td>517.000000</td>\n",
       "      <td>517.000000</td>\n",
       "      <td>517.000000</td>\n",
       "      <td>517.000000</td>\n",
       "      <td>517.000000</td>\n",
       "      <td>517.000000</td>\n",
       "      <td>517.000000</td>\n",
       "      <td>517.000000</td>\n",
       "      <td>517.000000</td>\n",
       "      <td>517.000000</td>\n",
       "      <td>517.000000</td>\n",
       "      <td>517.000000</td>\n",
       "      <td>517.000000</td>\n",
       "    </tr>\n",
       "    <tr>\n",
       "      <th>mean</th>\n",
       "      <td>4.669246</td>\n",
       "      <td>4.299807</td>\n",
       "      <td>5.758221</td>\n",
       "      <td>2.736944</td>\n",
       "      <td>90.644681</td>\n",
       "      <td>110.872340</td>\n",
       "      <td>547.940039</td>\n",
       "      <td>9.021663</td>\n",
       "      <td>18.889168</td>\n",
       "      <td>44.288201</td>\n",
       "      <td>4.017602</td>\n",
       "      <td>0.021663</td>\n",
       "      <td>12.847292</td>\n",
       "    </tr>\n",
       "    <tr>\n",
       "      <th>std</th>\n",
       "      <td>2.313778</td>\n",
       "      <td>1.229900</td>\n",
       "      <td>4.373275</td>\n",
       "      <td>1.925061</td>\n",
       "      <td>5.520111</td>\n",
       "      <td>64.046482</td>\n",
       "      <td>248.066192</td>\n",
       "      <td>4.559477</td>\n",
       "      <td>5.806625</td>\n",
       "      <td>16.317469</td>\n",
       "      <td>1.791653</td>\n",
       "      <td>0.295959</td>\n",
       "      <td>63.655818</td>\n",
       "    </tr>\n",
       "    <tr>\n",
       "      <th>min</th>\n",
       "      <td>1.000000</td>\n",
       "      <td>2.000000</td>\n",
       "      <td>0.000000</td>\n",
       "      <td>0.000000</td>\n",
       "      <td>18.700000</td>\n",
       "      <td>1.100000</td>\n",
       "      <td>7.900000</td>\n",
       "      <td>0.000000</td>\n",
       "      <td>2.200000</td>\n",
       "      <td>15.000000</td>\n",
       "      <td>0.400000</td>\n",
       "      <td>0.000000</td>\n",
       "      <td>0.000000</td>\n",
       "    </tr>\n",
       "    <tr>\n",
       "      <th>25%</th>\n",
       "      <td>3.000000</td>\n",
       "      <td>4.000000</td>\n",
       "      <td>1.000000</td>\n",
       "      <td>1.000000</td>\n",
       "      <td>90.200000</td>\n",
       "      <td>68.600000</td>\n",
       "      <td>437.700000</td>\n",
       "      <td>6.500000</td>\n",
       "      <td>15.500000</td>\n",
       "      <td>33.000000</td>\n",
       "      <td>2.700000</td>\n",
       "      <td>0.000000</td>\n",
       "      <td>0.000000</td>\n",
       "    </tr>\n",
       "    <tr>\n",
       "      <th>50%</th>\n",
       "      <td>4.000000</td>\n",
       "      <td>4.000000</td>\n",
       "      <td>6.000000</td>\n",
       "      <td>3.000000</td>\n",
       "      <td>91.600000</td>\n",
       "      <td>108.300000</td>\n",
       "      <td>664.200000</td>\n",
       "      <td>8.400000</td>\n",
       "      <td>19.300000</td>\n",
       "      <td>42.000000</td>\n",
       "      <td>4.000000</td>\n",
       "      <td>0.000000</td>\n",
       "      <td>0.520000</td>\n",
       "    </tr>\n",
       "    <tr>\n",
       "      <th>75%</th>\n",
       "      <td>7.000000</td>\n",
       "      <td>5.000000</td>\n",
       "      <td>11.000000</td>\n",
       "      <td>4.000000</td>\n",
       "      <td>92.900000</td>\n",
       "      <td>142.400000</td>\n",
       "      <td>713.900000</td>\n",
       "      <td>10.800000</td>\n",
       "      <td>22.800000</td>\n",
       "      <td>53.000000</td>\n",
       "      <td>4.900000</td>\n",
       "      <td>0.000000</td>\n",
       "      <td>6.570000</td>\n",
       "    </tr>\n",
       "    <tr>\n",
       "      <th>max</th>\n",
       "      <td>9.000000</td>\n",
       "      <td>9.000000</td>\n",
       "      <td>11.000000</td>\n",
       "      <td>6.000000</td>\n",
       "      <td>96.200000</td>\n",
       "      <td>291.300000</td>\n",
       "      <td>860.600000</td>\n",
       "      <td>56.100000</td>\n",
       "      <td>33.300000</td>\n",
       "      <td>100.000000</td>\n",
       "      <td>9.400000</td>\n",
       "      <td>6.400000</td>\n",
       "      <td>1090.840000</td>\n",
       "    </tr>\n",
       "  </tbody>\n",
       "</table>\n",
       "</div>"
      ],
      "text/plain": [
       "                X           Y       month         day        FFMC         DMC  \\\n",
       "count  517.000000  517.000000  517.000000  517.000000  517.000000  517.000000   \n",
       "mean     4.669246    4.299807    5.758221    2.736944   90.644681  110.872340   \n",
       "std      2.313778    1.229900    4.373275    1.925061    5.520111   64.046482   \n",
       "min      1.000000    2.000000    0.000000    0.000000   18.700000    1.100000   \n",
       "25%      3.000000    4.000000    1.000000    1.000000   90.200000   68.600000   \n",
       "50%      4.000000    4.000000    6.000000    3.000000   91.600000  108.300000   \n",
       "75%      7.000000    5.000000   11.000000    4.000000   92.900000  142.400000   \n",
       "max      9.000000    9.000000   11.000000    6.000000   96.200000  291.300000   \n",
       "\n",
       "               DC         ISI        temp          RH        wind        rain  \\\n",
       "count  517.000000  517.000000  517.000000  517.000000  517.000000  517.000000   \n",
       "mean   547.940039    9.021663   18.889168   44.288201    4.017602    0.021663   \n",
       "std    248.066192    4.559477    5.806625   16.317469    1.791653    0.295959   \n",
       "min      7.900000    0.000000    2.200000   15.000000    0.400000    0.000000   \n",
       "25%    437.700000    6.500000   15.500000   33.000000    2.700000    0.000000   \n",
       "50%    664.200000    8.400000   19.300000   42.000000    4.000000    0.000000   \n",
       "75%    713.900000   10.800000   22.800000   53.000000    4.900000    0.000000   \n",
       "max    860.600000   56.100000   33.300000  100.000000    9.400000    6.400000   \n",
       "\n",
       "              area  \n",
       "count   517.000000  \n",
       "mean     12.847292  \n",
       "std      63.655818  \n",
       "min       0.000000  \n",
       "25%       0.000000  \n",
       "50%       0.520000  \n",
       "75%       6.570000  \n",
       "max    1090.840000  "
      ]
     },
     "execution_count": 9,
     "metadata": {},
     "output_type": "execute_result"
    }
   ],
   "source": [
    "df.describe()"
   ]
  },
  {
   "cell_type": "markdown",
   "metadata": {
    "id": "WWRhH6r4xxQu"
   },
   "source": [
    "## Load data using `tf.data.Dataset`"
   ]
  },
  {
   "cell_type": "markdown",
   "metadata": {
    "id": "GuqmVVH_yApQ"
   },
   "source": [
    "Use `tf.data.Dataset.from_tensor_slices` to read the values from a pandas dataframe. \n",
    "\n",
    "One of the advantages of using `tf.data.Dataset` is it allows you to write simple, highly efficient data pipelines. Read the [loading data guide](https://www.tensorflow.org/guide/data) to find out more."
   ]
  },
  {
   "cell_type": "code",
   "execution_count": 10,
   "metadata": {
    "execution": {
     "iopub.execute_input": "2020-12-11T02:27:13.356829Z",
     "iopub.status.busy": "2020-12-11T02:27:13.355925Z",
     "iopub.status.idle": "2020-12-11T02:27:13.358293Z",
     "shell.execute_reply": "2020-12-11T02:27:13.357807Z"
    },
    "id": "2wwhILm1ycSp"
   },
   "outputs": [],
   "source": [
    "target = df.pop('area')"
   ]
  },
  {
   "cell_type": "code",
   "execution_count": 11,
   "metadata": {
    "execution": {
     "iopub.execute_input": "2020-12-11T02:27:18.534843Z",
     "iopub.status.busy": "2020-12-11T02:27:18.533895Z",
     "iopub.status.idle": "2020-12-11T02:27:18.537044Z",
     "shell.execute_reply": "2020-12-11T02:27:18.536550Z"
    },
    "id": "W6Yc-D3aqyBb"
   },
   "outputs": [],
   "source": [
    "dataset = tf.data.Dataset.from_tensor_slices((df.values, target.values))"
   ]
  },
  {
   "cell_type": "code",
   "execution_count": 12,
   "metadata": {
    "execution": {
     "iopub.execute_input": "2020-12-11T02:27:18.542580Z",
     "iopub.status.busy": "2020-12-11T02:27:18.541143Z",
     "iopub.status.idle": "2020-12-11T02:27:18.551599Z",
     "shell.execute_reply": "2020-12-11T02:27:18.551145Z"
    },
    "id": "chEnp_Swsf0a"
   },
   "outputs": [
    {
     "name": "stdout",
     "output_type": "stream",
     "text": [
      "Features: [ 7.   5.   7.   0.  86.2 26.2 94.3  5.1  8.2 51.   6.7  0. ], Target: 0.0\n",
      "Features: [  7.    4.   10.    5.   90.6  35.4 669.1   6.7  18.   33.    0.9   0. ], Target: 0.0\n",
      "Features: [  7.    4.   10.    2.   90.6  43.7 686.9   6.7  14.6  33.    1.3   0. ], Target: 0.0\n",
      "Features: [ 8.   6.   7.   0.  91.7 33.3 77.5  9.   8.3 97.   4.   0.2], Target: 0.0\n",
      "Features: [  8.    6.    7.    3.   89.3  51.3 102.2   9.6  11.4  99.    1.8   0. ], Target: 0.0\n"
     ]
    }
   ],
   "source": [
    "for feat, targ in dataset.take(5):\n",
    "  print ('Features: {}, Target: {}'.format(feat, targ))"
   ]
  },
  {
   "cell_type": "markdown",
   "metadata": {
    "id": "GzwlAhX6xH9Q"
   },
   "source": [
    "Since a `pd.Series` implements the `__array__` protocol it can be used transparently nearly anywhere you would use a `np.array` or a `tf.Tensor`."
   ]
  },
  {
   "cell_type": "code",
   "execution_count": 13,
   "metadata": {
    "execution": {
     "iopub.execute_input": "2020-12-11T02:27:18.556895Z",
     "iopub.status.busy": "2020-12-11T02:27:18.556194Z",
     "iopub.status.idle": "2020-12-11T02:27:18.559232Z",
     "shell.execute_reply": "2020-12-11T02:27:18.559671Z"
    },
    "id": "GnpHHkpktl5y"
   },
   "outputs": [
    {
     "data": {
      "text/plain": [
       "<tf.Tensor: shape=(517,), dtype=int8, numpy=\n",
       "array([ 7, 10, 10,  7,  7,  1,  1,  1, 11, 11, 11, 11,  1, 11, 11, 11,  7,\n",
       "       10,  7,  0, 11, 11,  6,  1,  1,  1, 11, 11, 11, 11, 11, 11, 11, 11,\n",
       "       11, 11, 10, 10, 10,  7,  5,  1,  1, 11, 11, 11, 11,  5,  7,  7, 11,\n",
       "        1,  1,  1,  1, 11, 11, 10,  3,  3,  7,  7,  1,  1,  1,  1, 11, 11,\n",
       "       11,  7,  7, 11,  7,  1, 11,  3,  3,  7,  1,  1,  1,  1,  1,  1,  1,\n",
       "       11, 11, 11, 11,  7,  1,  7,  1,  1,  1, 11,  3,  7,  1,  1,  1,  1,\n",
       "        1, 11,  4,  7,  7,  1, 11, 11,  7,  7, 11, 11,  7,  7,  7,  7,  7,\n",
       "        1,  1,  1, 11, 11, 11, 10,  7, 11, 10, 10,  3,  7,  7, 11,  7,  1,\n",
       "       11, 11,  5, 11, 11,  1,  1,  5,  1,  1,  7, 11,  1, 11,  6,  5,  5,\n",
       "       11, 11,  1, 11,  1,  1, 11,  7,  1,  7, 11, 11,  7,  1,  1,  7,  1,\n",
       "       11,  1,  1, 11,  1,  1,  0,  1, 11,  1, 11, 10,  3, 10,  1, 11,  7,\n",
       "       11,  7,  7,  7,  1,  1, 11,  1,  1,  0, 11, 11, 11, 11,  7,  3, 10,\n",
       "        7, 11,  1, 11, 11, 11, 10,  1, 11,  7,  7,  7, 11, 11, 11,  7,  1,\n",
       "       11,  7,  5, 11, 11, 10,  1, 11,  1, 11, 11, 11, 11, 11,  1, 11, 11,\n",
       "       11,  0,  0,  0,  1,  1,  1,  1,  1,  1,  1,  1,  1,  1,  1,  1,  1,\n",
       "        1,  1,  1,  1,  1,  1,  1,  1,  1,  1,  1,  1,  1,  1,  1,  1,  1,\n",
       "        1,  2,  2,  2,  2,  2,  2,  2,  2,  2,  3,  3,  3,  5,  5,  5,  5,\n",
       "        5,  5,  5,  5,  5,  5,  6,  6,  6,  6,  6,  6,  6,  6,  6,  8, 11,\n",
       "       11, 11, 11, 11, 11, 11, 11, 11, 11, 11, 11, 11, 11, 11, 11, 11, 11,\n",
       "       11, 11, 11, 11, 11, 11, 11, 11, 11, 11, 11, 11, 11, 11, 11, 11, 11,\n",
       "       11, 11, 11, 11, 11, 11, 11, 11, 11, 11, 11, 11, 11, 11, 11, 11, 11,\n",
       "       11, 11, 11, 11, 11, 11, 11, 11, 11, 11, 11, 11, 11, 11,  5,  1,  1,\n",
       "       11, 11,  1,  1,  7,  4,  5,  1,  1,  1,  1,  1, 11,  7,  1,  1,  3,\n",
       "       11, 11,  7,  3,  3, 11,  1,  1,  6,  6, 11,  1,  1, 11,  1, 11,  3,\n",
       "       11,  5,  3,  3,  5,  1,  1,  1,  5,  7,  1,  1,  1,  1,  5, 11,  1,\n",
       "        1,  1,  1,  1,  1, 11,  1,  1,  1,  1,  5,  1,  1,  1, 11, 11,  1,\n",
       "        0,  5, 11,  1,  1,  7, 11,  1,  1,  1,  1,  1,  1,  5,  1,  1,  1,\n",
       "        1,  1,  1, 11,  3,  3,  3,  7,  7,  7,  0,  0,  8,  6,  6,  6,  6,\n",
       "        5,  5,  5,  5,  5,  5,  1,  1,  1,  1,  1,  1,  1,  1,  1,  1,  1,\n",
       "        1,  1,  1,  1,  1,  1,  1,  1,  1,  1,  1,  1,  1,  1,  1,  1,  1,\n",
       "        1,  1,  1,  1,  1,  1,  9], dtype=int8)>"
      ]
     },
     "execution_count": 13,
     "metadata": {},
     "output_type": "execute_result"
    }
   ],
   "source": [
    "tf.constant(df['month'])"
   ]
  },
  {
   "cell_type": "markdown",
   "metadata": {
    "id": "9XLxRHS10Ylp"
   },
   "source": [
    "Shuffle and batch the dataset."
   ]
  },
  {
   "cell_type": "code",
   "execution_count": 14,
   "metadata": {},
   "outputs": [
    {
     "data": {
      "text/plain": [
       "<tf.Tensor: shape=(517,), dtype=int8, numpy=\n",
       "array([0, 5, 2, 0, 3, 3, 1, 1, 5, 2, 2, 2, 0, 1, 6, 0, 2, 1, 6, 2, 5, 1,\n",
       "       3, 2, 2, 3, 0, 1, 2, 3, 0, 1, 0, 3, 1, 5, 5, 0, 2, 5, 5, 2, 5, 2,\n",
       "       6, 6, 1, 1, 1, 1, 4, 3, 6, 6, 4, 4, 5, 3, 1, 0, 3, 3, 4, 3, 1, 4,\n",
       "       0, 0, 0, 0, 0, 0, 0, 5, 0, 4, 0, 1, 0, 5, 3, 3, 5, 6, 4, 4, 4, 4,\n",
       "       3, 2, 2, 0, 3, 3, 1, 3, 2, 2, 3, 3, 3, 5, 5, 2, 2, 0, 4, 3, 2, 1,\n",
       "       0, 0, 3, 1, 5, 5, 2, 2, 1, 4, 1, 1, 3, 5, 0, 3, 1, 0, 6, 3, 2, 1,\n",
       "       3, 4, 5, 2, 3, 1, 5, 5, 1, 6, 0, 2, 6, 4, 1, 5, 5, 4, 0, 3, 2, 0,\n",
       "       2, 3, 2, 6, 6, 0, 1, 4, 2, 2, 3, 4, 6, 6, 0, 4, 6, 6, 3, 1, 2, 2,\n",
       "       4, 3, 6, 5, 3, 1, 3, 1, 0, 5, 3, 1, 2, 3, 0, 4, 5, 6, 5, 0, 4, 4,\n",
       "       5, 1, 5, 3, 3, 6, 2, 4, 2, 5, 0, 4, 2, 2, 0, 1, 2, 2, 3, 1, 6, 1,\n",
       "       3, 0, 1, 0, 6, 3, 1, 2, 3, 2, 6, 3, 5, 5, 2, 3, 2, 5, 2, 3, 6, 0,\n",
       "       3, 3, 3, 3, 3, 6, 6, 6, 6, 6, 6, 4, 4, 4, 2, 2, 2, 2, 1, 0, 0, 0,\n",
       "       0, 5, 5, 5, 5, 5, 5, 5, 5, 3, 6, 4, 1, 1, 1, 1, 0, 5, 3, 6, 0, 3,\n",
       "       6, 2, 2, 2, 2, 2, 0, 5, 5, 3, 3, 3, 6, 2, 1, 1, 0, 0, 2, 3, 3, 3,\n",
       "       3, 3, 3, 3, 3, 6, 6, 6, 4, 4, 4, 4, 4, 4, 4, 4, 4, 2, 2, 2, 2, 2,\n",
       "       2, 2, 2, 1, 1, 1, 1, 1, 1, 1, 1, 1, 1, 1, 1, 1, 1, 0, 0, 0, 0, 0,\n",
       "       0, 0, 0, 0, 0, 0, 0, 0, 0, 0, 0, 5, 5, 5, 5, 5, 2, 3, 3, 6, 3, 4,\n",
       "       0, 2, 1, 2, 4, 3, 6, 4, 6, 4, 2, 3, 3, 4, 0, 0, 1, 0, 3, 5, 1, 3,\n",
       "       3, 3, 2, 6, 6, 4, 0, 4, 6, 5, 2, 2, 0, 5, 0, 0, 1, 2, 3, 4, 5, 6,\n",
       "       3, 3, 6, 6, 3, 2, 2, 4, 4, 1, 4, 3, 4, 2, 4, 3, 0, 2, 1, 2, 2, 0,\n",
       "       0, 1, 1, 0, 0, 3, 3, 6, 6, 3, 6, 0, 1, 4, 4, 1, 4, 6, 2, 2, 2, 2,\n",
       "       3, 5, 5, 2, 1, 6, 4, 3, 3, 0, 1, 2, 4, 4, 4, 3, 3, 1, 4, 4, 3, 3,\n",
       "       3, 1, 5, 5, 5, 6, 6, 4, 0, 0, 2, 1, 1, 5, 5, 5, 5, 5, 5, 6, 6, 4,\n",
       "       0, 0, 0, 0, 0, 3, 3, 3, 3, 2, 5], dtype=int8)>"
      ]
     },
     "execution_count": 14,
     "metadata": {},
     "output_type": "execute_result"
    }
   ],
   "source": [
    "tf.constant(df['day'])"
   ]
  },
  {
   "cell_type": "code",
   "execution_count": 15,
   "metadata": {
    "execution": {
     "iopub.execute_input": "2020-12-11T02:27:18.563584Z",
     "iopub.status.busy": "2020-12-11T02:27:18.563007Z",
     "iopub.status.idle": "2020-12-11T02:27:18.565140Z",
     "shell.execute_reply": "2020-12-11T02:27:18.565488Z"
    },
    "id": "R3dQ-83Ztsgl"
   },
   "outputs": [],
   "source": [
    "train_dataset = dataset.shuffle(len(df)).batch(1)"
   ]
  },
  {
   "cell_type": "code",
   "execution_count": 16,
   "metadata": {},
   "outputs": [],
   "source": [
    "from tensorflow.keras.layers.experimental import preprocessing\n",
    "\n"
   ]
  },
  {
   "cell_type": "markdown",
   "metadata": {
    "id": "bB9C0XJkyQEk"
   },
   "source": [
    "## Create and train a model"
   ]
  },
  {
   "cell_type": "code",
   "execution_count": 17,
   "metadata": {
    "execution": {
     "iopub.execute_input": "2020-12-11T02:27:18.570484Z",
     "iopub.status.busy": "2020-12-11T02:27:18.569893Z",
     "iopub.status.idle": "2020-12-11T02:27:18.572176Z",
     "shell.execute_reply": "2020-12-11T02:27:18.571622Z"
    },
    "id": "FQd9PcPRpkP4"
   },
   "outputs": [],
   "source": [
    "def get_compiled_model():\n",
    "  model = tf.keras.Sequential([\n",
    "    tf.keras.layers.Dense(10, activation='relu'),\n",
    "    tf.keras.layers.Dense(10, activation='relu'),\n",
    "    tf.keras.layers.Dense(1)\n",
    "  ])\n",
    "\n",
    "  model.compile(optimizer='adam', \n",
    "                loss='mean_squared_error', \n",
    "                metrics=['mean_squared_error'])\n",
    "\n",
    "  #model.compile(optimizer='adam',\n",
    "  #              loss=tf.keras.losses.BinaryCrossentropy(from_logits=True),\n",
    "  #              metrics=['accuracy'])\n",
    "  return model"
   ]
  },
  {
   "cell_type": "code",
   "execution_count": 18,
   "metadata": {
    "execution": {
     "iopub.execute_input": "2020-12-11T02:27:18.575749Z",
     "iopub.status.busy": "2020-12-11T02:27:18.575131Z",
     "iopub.status.idle": "2020-12-11T02:27:28.669750Z",
     "shell.execute_reply": "2020-12-11T02:27:28.669242Z"
    },
    "id": "ybDzNUheqxJw"
   },
   "outputs": [
    {
     "name": "stdout",
     "output_type": "stream",
     "text": [
      "Epoch 1/15\n",
      "WARNING:tensorflow:Layer dense is casting an input tensor from dtype float64 to the layer's dtype of float32, which is new behavior in TensorFlow 2.  The layer has dtype float32 because its dtype defaults to floatx.\n",
      "\n",
      "If you intended to run this layer in float32, you can safely ignore this warning. If in doubt, this warning is likely only an issue if you are porting a TensorFlow 1.X model to TensorFlow 2.\n",
      "\n",
      "To change all layers to have dtype float64 by default, call `tf.keras.backend.set_floatx('float64')`. To change just this layer, pass dtype='float64' to the layer constructor. If you are the author of this layer, you can disable autocasting by passing autocast=False to the base Layer constructor.\n",
      "\n",
      "517/517 [==============================] - 0s 314us/step - loss: 6458.2744 - mean_squared_error: 6458.2744\n",
      "Epoch 2/15\n",
      "517/517 [==============================] - 0s 310us/step - loss: 4058.3313 - mean_squared_error: 4058.3313\n",
      "Epoch 3/15\n",
      "517/517 [==============================] - 0s 312us/step - loss: 4105.4077 - mean_squared_error: 4105.4077\n",
      "Epoch 4/15\n",
      "517/517 [==============================] - 0s 308us/step - loss: 4059.5779 - mean_squared_error: 4059.5779\n",
      "Epoch 5/15\n",
      "517/517 [==============================] - 0s 312us/step - loss: 4045.3096 - mean_squared_error: 4045.3096\n",
      "Epoch 6/15\n",
      "517/517 [==============================] - 0s 310us/step - loss: 4037.6257 - mean_squared_error: 4037.6257\n",
      "Epoch 7/15\n",
      "517/517 [==============================] - 0s 303us/step - loss: 4065.3777 - mean_squared_error: 4065.3777\n",
      "Epoch 8/15\n",
      "517/517 [==============================] - 0s 309us/step - loss: 4055.7190 - mean_squared_error: 4055.7190\n",
      "Epoch 9/15\n",
      "517/517 [==============================] - 0s 312us/step - loss: 4056.2913 - mean_squared_error: 4056.2913\n",
      "Epoch 10/15\n",
      "517/517 [==============================] - 0s 318us/step - loss: 4036.5588 - mean_squared_error: 4036.5588\n",
      "Epoch 11/15\n",
      "517/517 [==============================] - 0s 307us/step - loss: 4057.8594 - mean_squared_error: 4057.8594\n",
      "Epoch 12/15\n",
      "517/517 [==============================] - 0s 312us/step - loss: 4011.9492 - mean_squared_error: 4011.9492\n",
      "Epoch 13/15\n",
      "517/517 [==============================] - 0s 313us/step - loss: 4094.5532 - mean_squared_error: 4094.5532\n",
      "Epoch 14/15\n",
      "517/517 [==============================] - 0s 305us/step - loss: 4009.7842 - mean_squared_error: 4009.7842\n",
      "Epoch 15/15\n",
      "517/517 [==============================] - 0s 307us/step - loss: 4045.4746 - mean_squared_error: 4045.4746\n"
     ]
    },
    {
     "data": {
      "text/plain": [
       "<tensorflow.python.keras.callbacks.History at 0x262c0b42708>"
      ]
     },
     "execution_count": 18,
     "metadata": {},
     "output_type": "execute_result"
    }
   ],
   "source": [
    "model = get_compiled_model()\n",
    "model.fit(train_dataset, epochs=15)"
   ]
  },
  {
   "cell_type": "markdown",
   "metadata": {
    "id": "d6V_6F_MBiG9"
   },
   "source": [
    "## Alternative to feature columns"
   ]
  },
  {
   "cell_type": "markdown",
   "metadata": {
    "id": "X63B9vDsD8Ly"
   },
   "source": [
    "Passing a dictionary as an input to a model is as easy as creating a matching dictionary of `tf.keras.layers.Input` layers, applying any pre-processing and stacking them up using the [functional api](../../guide/keras/functional.ipynb). You can use this as an alternative to [feature columns](../keras/feature_columns.ipynb)."
   ]
  },
  {
   "cell_type": "code",
   "execution_count": 19,
   "metadata": {
    "execution": {
     "iopub.execute_input": "2020-12-11T02:27:28.684547Z",
     "iopub.status.busy": "2020-12-11T02:27:28.682181Z",
     "iopub.status.idle": "2020-12-11T02:27:28.722187Z",
     "shell.execute_reply": "2020-12-11T02:27:28.721599Z"
    },
    "id": "FwQ47_WmOBnY"
   },
   "outputs": [],
   "source": [
    "inputs = {key: tf.keras.layers.Input(shape=(), name=key) for key in df.keys()}\n",
    "x = tf.stack(list(inputs.values()), axis=-1)\n",
    "\n",
    "x = tf.keras.layers.Dense(10, activation='relu')(x)\n",
    "output = tf.keras.layers.Dense(1)(x)\n",
    "\n",
    "model_func = tf.keras.Model(inputs=inputs, outputs=output)\n",
    "\n",
    "model_func.compile(optimizer='adam',\n",
    "                   loss='mean_squared_error',\n",
    "                   metrics=['mean_squared_error'])\n",
    "\n",
    "#model_func.compile(optimizer='adam',\n",
    "#                   loss=tf.keras.losses.BinaryCrossentropy(from_logits=True),\n",
    "#                   metrics=['accuracy'])"
   ]
  },
  {
   "cell_type": "markdown",
   "metadata": {
    "id": "qSCN5f_vUURE"
   },
   "source": [
    "The easiest way to preserve the column structure of a `pd.DataFrame` when used with `tf.data` is to convert the `pd.DataFrame` to a `dict`, and slice that dictionary."
   ]
  },
  {
   "cell_type": "code",
   "execution_count": 20,
   "metadata": {
    "execution": {
     "iopub.execute_input": "2020-12-11T02:27:28.740248Z",
     "iopub.status.busy": "2020-12-11T02:27:28.739585Z",
     "iopub.status.idle": "2020-12-11T02:27:28.742722Z",
     "shell.execute_reply": "2020-12-11T02:27:28.743136Z"
    },
    "id": "wUjRKgEhPZqK"
   },
   "outputs": [],
   "source": [
    "dict_slices = tf.data.Dataset.from_tensor_slices((df.to_dict('list'), target.values)).batch(16)"
   ]
  },
  {
   "cell_type": "code",
   "execution_count": 21,
   "metadata": {
    "execution": {
     "iopub.execute_input": "2020-12-11T02:27:28.747586Z",
     "iopub.status.busy": "2020-12-11T02:27:28.746915Z",
     "iopub.status.idle": "2020-12-11T02:27:28.756331Z",
     "shell.execute_reply": "2020-12-11T02:27:28.756728Z"
    },
    "id": "WWRaiwxeyA9Z"
   },
   "outputs": [
    {
     "name": "stdout",
     "output_type": "stream",
     "text": [
      "({'X': <tf.Tensor: shape=(16,), dtype=int32, numpy=array([7, 7, 7, 8, 8, 8, 8, 8, 8, 7, 7, 7, 6, 6, 6, 6])>, 'Y': <tf.Tensor: shape=(16,), dtype=int32, numpy=array([5, 4, 4, 6, 6, 6, 6, 6, 6, 5, 5, 5, 5, 5, 5, 5])>, 'month': <tf.Tensor: shape=(16,), dtype=int32, numpy=array([ 7, 10, 10,  7,  7,  1,  1,  1, 11, 11, 11, 11,  1, 11, 11, 11])>, 'day': <tf.Tensor: shape=(16,), dtype=int32, numpy=array([0, 5, 2, 0, 3, 3, 1, 1, 5, 2, 2, 2, 0, 1, 6, 0])>, 'FFMC': <tf.Tensor: shape=(16,), dtype=float32, numpy=\n",
      "array([86.2, 90.6, 90.6, 91.7, 89.3, 92.3, 92.3, 91.5, 91. , 92.5, 92.5,\n",
      "       92.8, 63.5, 90.9, 92.9, 93.3], dtype=float32)>, 'DMC': <tf.Tensor: shape=(16,), dtype=float32, numpy=\n",
      "array([ 26.2,  35.4,  43.7,  33.3,  51.3,  85.3,  88.9, 145.4, 129.5,\n",
      "        88. ,  88. ,  73.2,  70.8, 126.5, 133.3, 141.2], dtype=float32)>, 'DC': <tf.Tensor: shape=(16,), dtype=float32, numpy=\n",
      "array([ 94.3, 669.1, 686.9,  77.5, 102.2, 488. , 495.6, 608.2, 692.6,\n",
      "       698.6, 698.6, 713. , 665.3, 686.5, 699.6, 713.9], dtype=float32)>, 'ISI': <tf.Tensor: shape=(16,), dtype=float32, numpy=\n",
      "array([ 5.1,  6.7,  6.7,  9. ,  9.6, 14.7,  8.5, 10.7,  7. ,  7.1,  7.1,\n",
      "       22.6,  0.8,  7. ,  9.2, 13.9], dtype=float32)>, 'temp': <tf.Tensor: shape=(16,), dtype=float32, numpy=\n",
      "array([ 8.2, 18. , 14.6,  8.3, 11.4, 22.2, 24.1,  8. , 13.1, 22.8, 17.8,\n",
      "       19.3, 17. , 21.3, 26.4, 22.9], dtype=float32)>, 'RH': <tf.Tensor: shape=(16,), dtype=int32, numpy=array([51, 33, 33, 97, 99, 29, 27, 86, 63, 40, 51, 38, 72, 42, 21, 44])>, 'wind': <tf.Tensor: shape=(16,), dtype=float32, numpy=\n",
      "array([6.7, 0.9, 1.3, 4. , 1.8, 5.4, 3.1, 2.2, 5.4, 4. , 7.2, 4. , 6.7,\n",
      "       2.2, 4.5, 5.4], dtype=float32)>, 'rain': <tf.Tensor: shape=(16,), dtype=float32, numpy=\n",
      "array([0. , 0. , 0. , 0.2, 0. , 0. , 0. , 0. , 0. , 0. , 0. , 0. , 0. ,\n",
      "       0. , 0. , 0. ], dtype=float32)>}, <tf.Tensor: shape=(16,), dtype=float64, numpy=array([0., 0., 0., 0., 0., 0., 0., 0., 0., 0., 0., 0., 0., 0., 0., 0.])>)\n"
     ]
    }
   ],
   "source": [
    "for dict_slice in dict_slices.take(1):\n",
    "  print (dict_slice)"
   ]
  },
  {
   "cell_type": "code",
   "execution_count": 22,
   "metadata": {
    "execution": {
     "iopub.execute_input": "2020-12-11T02:27:28.761199Z",
     "iopub.status.busy": "2020-12-11T02:27:28.760546Z",
     "iopub.status.idle": "2020-12-11T02:27:30.059398Z",
     "shell.execute_reply": "2020-12-11T02:27:30.059821Z"
    },
    "id": "8nTrfczNyKup"
   },
   "outputs": [
    {
     "name": "stdout",
     "output_type": "stream",
     "text": [
      "Epoch 1/15\n",
      "33/33 [==============================] - 0s 686us/step - loss: 4182.6553 - mean_squared_error: 4182.6553\n",
      "Epoch 2/15\n",
      "33/33 [==============================] - 0s 582us/step - loss: 4084.4758 - mean_squared_error: 4084.4758\n",
      "Epoch 3/15\n",
      "33/33 [==============================] - 0s 637us/step - loss: 4064.0735 - mean_squared_error: 4064.0735\n",
      "Epoch 4/15\n",
      "33/33 [==============================] - 0s 591us/step - loss: 4056.7959 - mean_squared_error: 4056.7959\n",
      "Epoch 5/15\n",
      "33/33 [==============================] - 0s 653us/step - loss: 4052.9275 - mean_squared_error: 4052.9275\n",
      "Epoch 6/15\n",
      "33/33 [==============================] - 0s 662us/step - loss: 4050.4238 - mean_squared_error: 4050.4238\n",
      "Epoch 7/15\n",
      "33/33 [==============================] - 0s 637us/step - loss: 4048.4360 - mean_squared_error: 4048.4360\n",
      "Epoch 8/15\n",
      "33/33 [==============================] - 0s 648us/step - loss: 4046.7754 - mean_squared_error: 4046.7754\n",
      "Epoch 9/15\n",
      "33/33 [==============================] - 0s 606us/step - loss: 4045.2126 - mean_squared_error: 4045.2126\n",
      "Epoch 10/15\n",
      "33/33 [==============================] - 0s 606us/step - loss: 4043.8999 - mean_squared_error: 4043.8999\n",
      "Epoch 11/15\n",
      "33/33 [==============================] - 0s 649us/step - loss: 4042.7048 - mean_squared_error: 4042.7048\n",
      "Epoch 12/15\n",
      "33/33 [==============================] - 0s 654us/step - loss: 4041.6714 - mean_squared_error: 4041.6714\n",
      "Epoch 13/15\n",
      "33/33 [==============================] - 0s 616us/step - loss: 4040.7529 - mean_squared_error: 4040.7529\n",
      "Epoch 14/15\n",
      "33/33 [==============================] - 0s 611us/step - loss: 4039.9282 - mean_squared_error: 4039.9282\n",
      "Epoch 15/15\n",
      "33/33 [==============================] - 0s 610us/step - loss: 4039.1057 - mean_squared_error: 4039.1057\n"
     ]
    },
    {
     "data": {
      "text/plain": [
       "<tensorflow.python.keras.callbacks.History at 0x262c204b388>"
      ]
     },
     "execution_count": 22,
     "metadata": {},
     "output_type": "execute_result"
    }
   ],
   "source": [
    "model_func.fit(dict_slices, epochs=15)"
   ]
  },
  {
   "cell_type": "code",
   "execution_count": null,
   "metadata": {},
   "outputs": [],
   "source": []
  }
 ],
 "metadata": {
  "colab": {
   "collapsed_sections": [],
   "name": "pandas_dataframe.ipynb",
   "provenance": [],
   "toc_visible": true
  },
  "kernelspec": {
   "display_name": "Python 3",
   "language": "python",
   "name": "python3"
  },
  "language_info": {
   "codemirror_mode": {
    "name": "ipython",
    "version": 3
   },
   "file_extension": ".py",
   "mimetype": "text/x-python",
   "name": "python",
   "nbconvert_exporter": "python",
   "pygments_lexer": "ipython3",
   "version": "3.7.9"
  },
  "varInspector": {
   "cols": {
    "lenName": 16,
    "lenType": 16,
    "lenVar": 40
   },
   "kernels_config": {
    "python": {
     "delete_cmd_postfix": "",
     "delete_cmd_prefix": "del ",
     "library": "var_list.py",
     "varRefreshCmd": "print(var_dic_list())"
    },
    "r": {
     "delete_cmd_postfix": ") ",
     "delete_cmd_prefix": "rm(",
     "library": "var_list.r",
     "varRefreshCmd": "cat(var_dic_list()) "
    }
   },
   "types_to_exclude": [
    "module",
    "function",
    "builtin_function_or_method",
    "instance",
    "_Feature"
   ],
   "window_display": false
  }
 },
 "nbformat": 4,
 "nbformat_minor": 1
}
